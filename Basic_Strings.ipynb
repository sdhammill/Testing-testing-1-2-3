{
  "nbformat": 4,
  "nbformat_minor": 0,
  "metadata": {
    "colab": {
      "provenance": [],
      "authorship_tag": "ABX9TyOx1EjzAWPYrO7XddF3E1P3",
      "include_colab_link": true
    },
    "kernelspec": {
      "name": "python3",
      "display_name": "Python 3"
    },
    "language_info": {
      "name": "python"
    }
  },
  "cells": [
    {
      "cell_type": "markdown",
      "metadata": {
        "id": "view-in-github",
        "colab_type": "text"
      },
      "source": [
        "<a href=\"https://colab.research.google.com/github/sdhammill/Testing-testing-1-2-3/blob/main/Basic_Strings.ipynb\" target=\"_parent\"><img src=\"https://colab.research.google.com/assets/colab-badge.svg\" alt=\"Open In Colab\"/></a>"
      ]
    },
    {
      "cell_type": "code",
      "execution_count": null,
      "metadata": {
        "id": "yknbYeOwJ0Dt"
      },
      "outputs": [],
      "source": [
        "s1 = 'abcdefg'\n",
        "s2 = 'abdght'\n",
        "for char in s1:\n",
        "  if char in s2:\n",
        "    print(char)"
      ]
    },
    {
      "cell_type": "code",
      "source": [
        "s1 = 'abcdefg'\n",
        "s2 = 'abdght'\n",
        "for index in range(len(s1)):\n",
        "  if s1[index] in s2:\n",
        "    print(s1[index])"
      ],
      "metadata": {
        "colab": {
          "base_uri": "https://localhost:8080/"
        },
        "id": "4YGc2qqNJ0wc",
        "outputId": "a426d238-9230-4d23-acf0-6a7fb31c5586"
      },
      "execution_count": 2,
      "outputs": [
        {
          "output_type": "stream",
          "name": "stdout",
          "text": [
            "a\n",
            "b\n",
            "d\n",
            "g\n"
          ]
        }
      ]
    }
  ]
}