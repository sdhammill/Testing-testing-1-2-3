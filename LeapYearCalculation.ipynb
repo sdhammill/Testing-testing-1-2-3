{
  "nbformat": 4,
  "nbformat_minor": 0,
  "metadata": {
    "colab": {
      "provenance": [],
      "authorship_tag": "ABX9TyNf7B8juq+10lWoUe5+iCtm",
      "include_colab_link": true
    },
    "kernelspec": {
      "name": "python3",
      "display_name": "Python 3"
    },
    "language_info": {
      "name": "python"
    }
  },
  "cells": [
    {
      "cell_type": "markdown",
      "metadata": {
        "id": "view-in-github",
        "colab_type": "text"
      },
      "source": [
        "<a href=\"https://colab.research.google.com/github/sdhammill/Testing-testing-1-2-3/blob/main/LeapYearCalculation.ipynb\" target=\"_parent\"><img src=\"https://colab.research.google.com/assets/colab-badge.svg\" alt=\"Open In Colab\"/></a>"
      ]
    },
    {
      "cell_type": "code",
      "execution_count": null,
      "metadata": {
        "id": "jU8KVMwyLi4J"
      },
      "outputs": [],
      "source": [
        "year = int(input('Enter year: '))\n",
        "\n",
        "if (year%4 == 0 and year%100 != 0) or (year%400 == 0):\n",
        "  print(f'The year {year} is a leap year')\n",
        "else:\n",
        "  print(f'The year {year} is not a leap year')"
      ]
    }
  ]
}