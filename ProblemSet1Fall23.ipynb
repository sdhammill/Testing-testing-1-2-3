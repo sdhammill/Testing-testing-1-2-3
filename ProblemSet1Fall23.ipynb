{
  "nbformat": 4,
  "nbformat_minor": 0,
  "metadata": {
    "colab": {
      "provenance": [],
      "include_colab_link": true
    },
    "kernelspec": {
      "name": "python3",
      "display_name": "Python 3"
    },
    "language_info": {
      "name": "python"
    }
  },
  "cells": [
    {
      "cell_type": "markdown",
      "metadata": {
        "id": "view-in-github",
        "colab_type": "text"
      },
      "source": [
        "<a href=\"https://colab.research.google.com/github/sdhammill/Testing-testing-1-2-3/blob/main/ProblemSet1Fall23.ipynb\" target=\"_parent\"><img src=\"https://colab.research.google.com/assets/colab-badge.svg\" alt=\"Open In Colab\"/></a>"
      ]
    },
    {
      "cell_type": "markdown",
      "source": [
        "# Problem Set 2"
      ],
      "metadata": {
        "id": "mqKVIuY-mxNU"
      }
    },
    {
      "cell_type": "markdown",
      "source": [
        "## Assignment 1: Quality Control (7 points)\n",
        "\n",
        "A quality control manager would like to find the average weight of a list of weights. Prior experience indicates that the first two measures are atypical, and the practice is to exclude these from the average calculation.\n",
        "\n",
        "Write a program that calculates the average of a list of numbers that given as inputs from the user, excluding the first two values.\n",
        "\n",
        "For your program, you must define and use the following functions:\n",
        "- `getValues(n)`: Prompt the user for `n` values, returns the list\n",
        "- `calcAverage(alist)`: Calculates the average from the list"
      ],
      "metadata": {
        "id": "-RSYW1jVm08n"
      }
    },
    {
      "cell_type": "code",
      "execution_count": null,
      "metadata": {
        "id": "AqbgJkgNmvQw"
      },
      "outputs": [],
      "source": [
        "def getValues(n):\n",
        "  weights = []\n",
        "  if n < 3:\n",
        "    print('Too small')\n",
        "    return\n",
        "  else:\n",
        "    for i in range(n):\n",
        "      weight = float(input('Input weight: '))\n",
        "      weights.append(weight)\n",
        "  return weights[2: ]\n",
        "\n",
        "def calcAverage(aList):\n",
        "  if len(aList) < 1:\n",
        "    print('Not enough elements')\n",
        "  else:\n",
        "    print(sum(aList)/len(aList))\n",
        "\n",
        "n_weights = int(input('Enter number of weights: '))\n",
        "L = getValues(n_weights)\n",
        "calcAverage(L)"
      ]
    },
    {
      "cell_type": "markdown",
      "source": [
        "## Assignment 2: Country Statistics Lookup-Multiple Measures (6 points)\n",
        "\n",
        "Assume a program begins with the statement:\n",
        "\n",
        "```python\n",
        "allData = { # dictionary of values for countries\n",
        "    'US': {'pop':325.7, 'gdp': 19.39, 'ccy': 'USD', 'fx':  1.0},\n",
        "    'CA': {'pop': 36.5, 'gdp':  1.65, 'ccy': 'CAD', 'fx':  1.35},\n",
        "    'MX': {'pop':129.2, 'gdp':  1.15, 'ccy': 'MXN', 'fx': 19.68}\n",
        "    }\n",
        "```\n",
        "\n",
        "Write subsequent statements that (in a loop) prompt the user for a country code (`US`, `CA`, or `MX`), then prompt for a measure name (`pop`, `gdp`, `ccy`, or `fx`), then look up in the above dictionary for the corresponding value, and display it.\n",
        "\n",
        "Example run:\n",
        "```\n",
        "Please enter a country code: CA\n",
        "Please enter a statistic: pop\n",
        "CA pop = 36.5\n",
        "```\n",
        "\n",
        "Your program should handle the cases where a user-entered country code or measure name is not found."
      ],
      "metadata": {
        "id": "QFO0Kzx8ncnv"
      }
    },
    {
      "cell_type": "code",
      "source": [
        "allData = { # dictionary of values for countries\n",
        "    'US': {'pop':325.7, 'gdp': 19.39, 'ccy': 'USD', 'fx':  1.0},\n",
        "    'CA': {'pop': 36.5, 'gdp':  1.65, 'ccy': 'CAD', 'fx':  1.35},\n",
        "    'MX': {'pop':129.2, 'gdp':  1.15, 'ccy': 'MXN', 'fx': 19.68}\n",
        "    }\n",
        "\n",
        "while True:\n",
        "  x = input('Select country (US/CA/MX): ')\n",
        "  if x == 'US':\n",
        "    y = input('Measure (pop/gdp/ccy/fx): ')\n",
        "    if y == 'pop':\n",
        "      print(allData['US']['pop'])\n",
        "    elif y == 'gdp':\n",
        "      print(allData['US']['gdp'])\n",
        "    elif y == 'ccy':\n",
        "      print(allData['US']['ccy'])\n",
        "    elif y == 'fx':\n",
        "      print(allData['US']['fx'])\n",
        "    else:\n",
        "      print('Unavailable measure')\n",
        "      break\n",
        "  elif x == 'CA':\n",
        "    y = input('Measure (pop/gdp/ccy/fx): ')\n",
        "    if y == 'pop':\n",
        "      print(allData['CA']['pop'])\n",
        "    elif y == 'gdp':\n",
        "      print(allData['CA']['gdp'])\n",
        "    elif y == 'ccy':\n",
        "      print(allData['CA']['ccy'])\n",
        "    elif y == 'fx':\n",
        "      print(allData['CA']['fx'])\n",
        "    else:\n",
        "      print('Unavailable measure')\n",
        "      break\n",
        "  elif x == 'MX':\n",
        "    y = input('Measure (pop/gdp/ccy/fx): ')\n",
        "    if y == 'pop':\n",
        "      print(allData['MX']['pop'])\n",
        "    elif y == 'gdp':\n",
        "      print(allData['MX']['gdp'])\n",
        "    elif y == 'ccy':\n",
        "      print(allData['MX']['ccy'])\n",
        "    elif y == 'fx':\n",
        "      print(allData['MX']['fx'])\n",
        "    else:\n",
        "      print('Unavailable measure')\n",
        "      break\n",
        "  else:\n",
        "    print('Unavailable')\n",
        "    break\n"
      ],
      "metadata": {
        "id": "NZFjRINKowEW"
      },
      "execution_count": null,
      "outputs": []
    },
    {
      "cell_type": "code",
      "source": [
        "allData = { # dictionary of values for countries\n",
        "    'US': {'pop':325.7, 'gdp': 19.39, 'ccy': 'USD', 'fx':  1.0},\n",
        "    'CA': {'pop': 36.5, 'gdp':  1.65, 'ccy': 'CAD', 'fx':  1.35},\n",
        "    'MX': {'pop':129.2, 'gdp':  1.15, 'ccy': 'MXN', 'fx': 19.68}\n",
        "    }\n",
        "\n",
        "measures = ['pop','gdp','ccy','fx']\n",
        "stop = ['stop','no','Stop','n','No','N']\n",
        "\n",
        "while True:\n",
        "  x = input('Country (US/CA/MX): ')\n",
        "  if x in allData:\n",
        "    y = input('Measure (pop/gdp/ccy/fx): ')\n",
        "    if y in measures:\n",
        "        if y == 'pop' or 'gdp' or 'ccy' or 'fx':\n",
        "          print(allData[x][y])\n",
        "    else:\n",
        "      print('Unavailable')\n",
        "  elif x in stop:\n",
        "    print('Program stopped')\n",
        "    break\n",
        "  else:\n",
        "    print('Unavailable')"
      ],
      "metadata": {
        "id": "M3BVSmquHNjY"
      },
      "execution_count": null,
      "outputs": []
    },
    {
      "cell_type": "markdown",
      "source": [
        "## Assignment 3: Parking Garage (6 points)\n",
        "\n",
        "Write a program to compute the fee for parking in a garage for a number of hours.\n",
        "\n",
        "The program should:\n",
        "- Prompt the user for how many hours parked\n",
        "- Calculate the fee based on the following rules:\n",
        "  - $2.50/hour\n",
        "\n",
        "  - minimum fee is $6.00\n",
        "\n",
        "  - maximum fee is $20.00\n",
        "- Print the result\n",
        "\n",
        "For your program, define and use the following two functions:\n",
        "```python\n",
        "# use input() to prompt for the # of hours parked, return this value\n",
        "def getParkingHours()\n",
        "\n",
        "# takes as input hours (a number), returns the parking fee\n",
        "def calcParkingFee()\n",
        "```"
      ],
      "metadata": {
        "id": "GjaUFrnfpKFf"
      }
    },
    {
      "cell_type": "code",
      "source": [
        "def getParkingHours():\n",
        "  hours = int(input('Hours parked (round to nearest whole hour): '))\n",
        "  return hours\n",
        "\n",
        "def calcParkingFee(hours):\n",
        "  fee = hours * 2.5\n",
        "  if fee <= 6:\n",
        "    print('$6.00')\n",
        "  elif fee >= 20:\n",
        "    print('$20.00')\n",
        "  else:\n",
        "    print(f'${fee}')\n",
        "\n",
        "\n",
        "x = getParkingHours()\n",
        "calcParkingFee(x)"
      ],
      "metadata": {
        "id": "5ha4O3V5pwNN"
      },
      "execution_count": null,
      "outputs": []
    },
    {
      "cell_type": "markdown",
      "source": [
        "## Assignment 4: Tuition (6 points)\n",
        "\n",
        "A college charges tuition according to the following:\n",
        "- 12 or more credits: $20,000/semester\n",
        "\n",
        "- 1-11 credits: $1,200 + $1,700 per credit\n",
        "\n",
        "Write a program that prompts the user for a number of credits and determines and displays the tuition for the semester. As part of your program, define and use the following function:\n",
        "```python\n",
        "def calcTuition(credits)\n",
        "```\n",
        "The function returns the tuition for a given number of credits"
      ],
      "metadata": {
        "id": "gipBObe5qm-2"
      }
    },
    {
      "cell_type": "code",
      "source": [
        "def calcTuition(x):\n",
        "  if x <= 0:\n",
        "    return '$0'\n",
        "  if x < 12:\n",
        "    y = 1200 + (1700 * x)\n",
        "    return f'${y}'\n",
        "  if x >= 12:\n",
        "    y = 20000\n",
        "    return f'${y}'\n",
        "\n",
        "credits = int(input('How many credits are you taking?: '))\n",
        "z = calcTuition(credits)\n",
        "print(z)"
      ],
      "metadata": {
        "id": "BPcn9ywzrL8y"
      },
      "execution_count": null,
      "outputs": []
    }
  ]
}