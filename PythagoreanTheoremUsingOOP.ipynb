{
  "nbformat": 4,
  "nbformat_minor": 0,
  "metadata": {
    "colab": {
      "provenance": [],
      "authorship_tag": "ABX9TyNmWPxNsryEYqrwGb4TX2nP",
      "include_colab_link": true
    },
    "kernelspec": {
      "name": "python3",
      "display_name": "Python 3"
    },
    "language_info": {
      "name": "python"
    }
  },
  "cells": [
    {
      "cell_type": "markdown",
      "metadata": {
        "id": "view-in-github",
        "colab_type": "text"
      },
      "source": [
        "<a href=\"https://colab.research.google.com/github/sdhammill/Testing-testing-1-2-3/blob/main/PythagoreanTheoremUsingOOP.ipynb\" target=\"_parent\"><img src=\"https://colab.research.google.com/assets/colab-badge.svg\" alt=\"Open In Colab\"/></a>"
      ]
    },
    {
      "cell_type": "code",
      "execution_count": 16,
      "metadata": {
        "id": "5OYTjlpK64L8"
      },
      "outputs": [],
      "source": [
        "import math\n",
        "\n",
        "class Point:\n",
        "  def __init__(self, x, y):\n",
        "    self.x = x\n",
        "    self.y = y\n",
        "\n",
        "  def distance(self, other):\n",
        "    x_diff = self.x - other.x\n",
        "    y_diff = self.y - other.y\n",
        "    d = math.sqrt(x_diff**2 + y_diff**2)\n",
        "    return round(d,3)\n",
        "\n",
        "class Point3D(Point):\n",
        "  def __init__(self, x, y, z):\n",
        "    super().__init__(x, y)\n",
        "    self.z = z\n",
        "\n",
        "  def distance(self, other):\n",
        "    x_diff = self.x - other.x\n",
        "    y_diff = self.y - other.y\n",
        "    z_diff = self.z - other.z\n",
        "    d1 = math.sqrt(x_diff**2 + y_diff**2 + z_diff**2)\n",
        "    return round(d1,3)"
      ]
    },
    {
      "cell_type": "code",
      "source": [
        "a = Point(3,7)\n",
        "b = Point(5, 10)\n",
        "\n",
        "a.distance(b)"
      ],
      "metadata": {
        "id": "NvCQK70-C1J6"
      },
      "execution_count": null,
      "outputs": []
    },
    {
      "cell_type": "code",
      "source": [
        "c = Point3D(2, 5, 7)\n",
        "d = Point3D(4, 1, 9)\n",
        "\n",
        "c.distance(d)"
      ],
      "metadata": {
        "id": "hTmdhOJPC2h_"
      },
      "execution_count": null,
      "outputs": []
    }
  ]
}