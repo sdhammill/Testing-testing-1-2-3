{
  "nbformat": 4,
  "nbformat_minor": 0,
  "metadata": {
    "colab": {
      "provenance": [],
      "authorship_tag": "ABX9TyPzoF2RG89qlvch9NWbmmDA",
      "include_colab_link": true
    },
    "kernelspec": {
      "name": "python3",
      "display_name": "Python 3"
    },
    "language_info": {
      "name": "python"
    }
  },
  "cells": [
    {
      "cell_type": "markdown",
      "metadata": {
        "id": "view-in-github",
        "colab_type": "text"
      },
      "source": [
        "<a href=\"https://colab.research.google.com/github/sdhammill/Testing-testing-1-2-3/blob/main/BasicObjectOrientedProgramming.ipynb\" target=\"_parent\"><img src=\"https://colab.research.google.com/assets/colab-badge.svg\" alt=\"Open In Colab\"/></a>"
      ]
    },
    {
      "cell_type": "code",
      "execution_count": null,
      "metadata": {
        "id": "c_p_RcTEpV6N"
      },
      "outputs": [],
      "source": [
        "class VehicleTest1: # Generally accepted to capitalize your classes; using constructor method here\n",
        "  def __init__(self, speed, nav_system, propulsion, weight, dimensions):\n",
        "    self.speed = speed # This is now an attribute of class VehicleTest1\n",
        "    self.nav_system = nav_system\n",
        "    self.propulsion = propulsion\n",
        "    self.weight = weight\n",
        "    self.dimesions = dimensions"
      ]
    },
    {
      "cell_type": "code",
      "source": [
        "class Car:\n",
        "  def __init__(self, make, model, year):\n",
        "    self.make = make\n",
        "    self.model = model\n",
        "    self.year = year\n",
        "    self.utility = 'HUV'\n",
        "\n",
        "  def accelerate(self):\n",
        "    print(f'The {self.make} accelerates')\n",
        "  def decelerate(self):\n",
        "    print(f'The {self.make} decelerates')"
      ],
      "metadata": {
        "id": "Kxh899uB4qoa"
      },
      "execution_count": 14,
      "outputs": []
    },
    {
      "cell_type": "code",
      "source": [
        "c = Car('Subaru','Legacy',2003)"
      ],
      "metadata": {
        "id": "CpeS6JNc7-xA"
      },
      "execution_count": 15,
      "outputs": []
    },
    {
      "cell_type": "code",
      "source": [
        "c.accelerate()"
      ],
      "metadata": {
        "id": "a0SIMdu99j5j"
      },
      "execution_count": null,
      "outputs": []
    },
    {
      "cell_type": "code",
      "source": [
        "c.make # When accessing information/attributes pertaining to a particular object of a class, you use dot notation without parentheses."
      ],
      "metadata": {
        "id": "fQ-Xil2O-b4r"
      },
      "execution_count": null,
      "outputs": []
    },
    {
      "cell_type": "code",
      "source": [
        "c = Car('Ford',150,'2023')\n",
        "d = Car('Porsche',911,'2020')"
      ],
      "metadata": {
        "id": "ijS5YchNLeQZ"
      },
      "execution_count": 16,
      "outputs": []
    },
    {
      "cell_type": "code",
      "source": [
        "d.accelerate()"
      ],
      "metadata": {
        "id": "VsINZbTpLwOs"
      },
      "execution_count": null,
      "outputs": []
    }
  ]
}