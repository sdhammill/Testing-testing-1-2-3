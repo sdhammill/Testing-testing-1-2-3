{
  "nbformat": 4,
  "nbformat_minor": 0,
  "metadata": {
    "colab": {
      "provenance": [],
      "authorship_tag": "ABX9TyOZoyz+N8kUdK5WAOW4Ljvs",
      "include_colab_link": true
    },
    "kernelspec": {
      "name": "python3",
      "display_name": "Python 3"
    },
    "language_info": {
      "name": "python"
    }
  },
  "cells": [
    {
      "cell_type": "markdown",
      "metadata": {
        "id": "view-in-github",
        "colab_type": "text"
      },
      "source": [
        "<a href=\"https://colab.research.google.com/github/sdhammill/Testing-testing-1-2-3/blob/main/DepositWithInterestRates.ipynb\" target=\"_parent\"><img src=\"https://colab.research.google.com/assets/colab-badge.svg\" alt=\"Open In Colab\"/></a>"
      ]
    },
    {
      "cell_type": "code",
      "execution_count": null,
      "metadata": {
        "id": "kCoyd290Nkmu"
      },
      "outputs": [],
      "source": [
        "name = input('Hi, please enter your name: ')\n",
        "customer_type = input('Enter customer type (n: new, e: existing): ')\n",
        "deposit = float(input('Enter deposit amount: $'))\n",
        "\n",
        "if customer_type == 'n':\n",
        "  interest = 0.03\n",
        "else:\n",
        "  if deposit <=1000:\n",
        "    interest = float(0.03)\n",
        "  elif deposit <=10000:\n",
        "    interest = float(0.0325)\n",
        "  elif deposit > 10000:\n",
        "    interest = float(0.035)\n",
        "\n",
        "amount = (1+interest) * deposit\n",
        "print(f'{name}, you will have ${round(amount,2)} in your account.')"
      ]
    }
  ]
}