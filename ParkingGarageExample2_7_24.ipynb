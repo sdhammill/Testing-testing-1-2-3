{
  "nbformat": 4,
  "nbformat_minor": 0,
  "metadata": {
    "colab": {
      "provenance": [],
      "authorship_tag": "ABX9TyN3mAveflScOQTk16ymqruR",
      "include_colab_link": true
    },
    "kernelspec": {
      "name": "python3",
      "display_name": "Python 3"
    },
    "language_info": {
      "name": "python"
    }
  },
  "cells": [
    {
      "cell_type": "markdown",
      "metadata": {
        "id": "view-in-github",
        "colab_type": "text"
      },
      "source": [
        "<a href=\"https://colab.research.google.com/github/sdhammill/Testing-testing-1-2-3/blob/main/ParkingGarageExample2_7_24.ipynb\" target=\"_parent\"><img src=\"https://colab.research.google.com/assets/colab-badge.svg\" alt=\"Open In Colab\"/></a>"
      ]
    },
    {
      "cell_type": "code",
      "execution_count": null,
      "metadata": {
        "id": "AxTbHU_emEcn"
      },
      "outputs": [],
      "source": [
        "fee_fixed = 5\n",
        "fee_hr = 2.5\n",
        "\n",
        "for hour in range(1,9 ,1):\n",
        "  print(f'{hour}) ${fee_fixed + fee_hr * hour}')\n",
        "\n",
        "\n",
        "print(f'{}')"
      ]
    },
    {
      "cell_type": "code",
      "source": [
        "fee_fixed = 5\n",
        "fee_hr = 2.5\n",
        "\n",
        "for hour in range(1,9 ,1):\n",
        "  fee_total = fee_fixed + fee_hr * hour\n",
        "  if fee_total < 10:\n",
        "    print(f'{hour}) $10.0')\n",
        "  elif fee_total < 20:\n",
        "    print(f'{hour}) ${fee_total}')\n",
        "  else:\n",
        "    print(f'{hour}) $20.0')"
      ],
      "metadata": {
        "id": "cGnuDUcepLGf"
      },
      "execution_count": null,
      "outputs": []
    }
  ]
}