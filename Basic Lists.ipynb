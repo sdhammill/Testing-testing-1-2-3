{
  "nbformat": 4,
  "nbformat_minor": 0,
  "metadata": {
    "colab": {
      "provenance": [],
      "authorship_tag": "ABX9TyN65MtDSaqme8DIXLHAOyGb",
      "include_colab_link": true
    },
    "kernelspec": {
      "name": "python3",
      "display_name": "Python 3"
    },
    "language_info": {
      "name": "python"
    }
  },
  "cells": [
    {
      "cell_type": "markdown",
      "metadata": {
        "id": "view-in-github",
        "colab_type": "text"
      },
      "source": [
        "<a href=\"https://colab.research.google.com/github/sdhammill/Testing-testing-1-2-3/blob/main/Basic%20Lists.ipynb\" target=\"_parent\"><img src=\"https://colab.research.google.com/assets/colab-badge.svg\" alt=\"Open In Colab\"/></a>"
      ]
    },
    {
      "cell_type": "code",
      "execution_count": 7,
      "metadata": {
        "colab": {
          "base_uri": "https://localhost:8080/"
        },
        "id": "-m9Zf2qd0IPM",
        "outputId": "4ebd7c56-9b26-4ec9-878e-af8eeedbd73b"
      },
      "outputs": [
        {
          "output_type": "stream",
          "name": "stdout",
          "text": [
            "Input an integer to be added to the list: 3\n",
            "[3]\n",
            "Input an integer to be added to the list: 4\n",
            "[3, 4]\n",
            "Input an integer to be added to the list: 7\n",
            "[3, 4, 7]\n",
            "Input an integer to be added to the list: 0\n",
            "Game over.\n"
          ]
        }
      ],
      "source": [
        "list = []\n",
        "x = int(input('Input an integer to be added to the list: '))\n",
        "\n",
        "while x != 0:\n",
        "  list.append(x)\n",
        "  print(list,end='\\n')\n",
        "  x = int(input('Input an integer to be added to the list: '))\n",
        "\n",
        "if x == 0:\n",
        "  print(\"Game over.\")"
      ]
    }
  ]
}