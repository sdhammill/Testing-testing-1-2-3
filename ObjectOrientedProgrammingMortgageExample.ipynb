{
  "nbformat": 4,
  "nbformat_minor": 0,
  "metadata": {
    "colab": {
      "provenance": [],
      "authorship_tag": "ABX9TyMTc4k5wsorXrwM4C4o2CjI",
      "include_colab_link": true
    },
    "kernelspec": {
      "name": "python3",
      "display_name": "Python 3"
    },
    "language_info": {
      "name": "python"
    }
  },
  "cells": [
    {
      "cell_type": "markdown",
      "metadata": {
        "id": "view-in-github",
        "colab_type": "text"
      },
      "source": [
        "<a href=\"https://colab.research.google.com/github/sdhammill/Testing-testing-1-2-3/blob/main/ObjectOrientedProgrammingMortgageExample.ipynb\" target=\"_parent\"><img src=\"https://colab.research.google.com/assets/colab-badge.svg\" alt=\"Open In Colab\"/></a>"
      ]
    },
    {
      "cell_type": "code",
      "execution_count": null,
      "metadata": {
        "id": "xKuIpWRIMSH4"
      },
      "outputs": [],
      "source": [
        "class Mortgage:\n",
        "  def __init__(self, principal, termYrs, interest):\n",
        "    self.principal = principal\n",
        "    self.termYrs = termYrs\n",
        "    self.__interest = interest # Two underscores makes it private\n",
        "\n",
        "  def __str__(self):\n",
        "    return f\"Mortgage info\\n Initial loan amount: ${self.principal}\\n Maturity date: {self.termYrs} years\\n Interest rate: {self.__interest}%\"\n",
        "\n",
        "  def get_interest(self):\n",
        "    return self.__interest\n",
        "\n",
        "  def get_principal(self):\n",
        "    return self.principal\n",
        "\n",
        "  def get_termYrs(self):\n",
        "    return self.termYrs\n",
        "\n",
        "  def set_interest(self, newInterest):\n",
        "    if newInterest >= 0:\n",
        "      self.__interest = newInterest\n",
        "    else:\n",
        "      print('Interest must be non-negative.')\n",
        "\n",
        "  def mCalc(self):\n",
        "    r = (self.__interest / 100)\n",
        "    n = (self.termYrs * 12)\n",
        "    PA = (self.principal)\n",
        "    x = ((PA * (r*(1.0+r)**n)) / ((1.0+r)**n - 1))\n",
        "    return f'${round(x,2)}'"
      ]
    },
    {
      "cell_type": "code",
      "source": [
        "a = Mortgage(100000,30,6)\n",
        "a.mCalc()"
      ],
      "metadata": {
        "id": "wa3rtTmFNwy-"
      },
      "execution_count": null,
      "outputs": []
    },
    {
      "cell_type": "code",
      "source": [
        "a.set_interest(5)\n",
        "a.mCalc()"
      ],
      "metadata": {
        "id": "UdSmR2weU49h"
      },
      "execution_count": null,
      "outputs": []
    },
    {
      "cell_type": "code",
      "source": [
        "print(a)"
      ],
      "metadata": {
        "id": "EMXvQ2vpxgqh"
      },
      "execution_count": null,
      "outputs": []
    },
    {
      "cell_type": "code",
      "source": [
        "# Let's break down using multiple classes\n",
        "\n",
        "class A:\n",
        "  def __init__(self, obj):\n",
        "    self.obj = obj\n",
        "\n",
        "  def whoAmI(self):\n",
        "    print('I am an instance of class A')\n",
        "\n",
        "  def __str__(self):      # Methods '__str__' and '__repr__' both return strings.\n",
        "    return f'<attribute value: {self.obj}>'\n",
        "\n",
        "  def __eq__(self, other):\n",
        "    return self.obj == other.obj\n",
        "\n",
        "  def __add__(self, other):\n",
        "    return self.obj + other.obj\n",
        "\n",
        "class B:\n",
        "  def __init__(self, obj):\n",
        "    self.obj = obj\n",
        "\n",
        "  def whoAmI(self):\n",
        "    print('I am an instance of class B')\n",
        "\n",
        "  def __str__(self):\n",
        "    return f'<attribute value: {self.obj}>'\n",
        "\n",
        "  def __eq__(self, other):\n",
        "    return self.obj == other.obj\n",
        "\n",
        "  def __add__(self, other):\n",
        "    return self.obj + other.obj\n",
        "\n",
        "\n",
        "# Now, let's create an instance of each class to demonstrate\n",
        "\n",
        "a1 = A(2)\n",
        "a2 = A(5)\n",
        "b = B(4)"
      ],
      "metadata": {
        "id": "xjgonFOsoSFk"
      },
      "execution_count": null,
      "outputs": []
    },
    {
      "cell_type": "code",
      "source": [
        "a1.whoAmI()\n",
        "b.whoAmI()  # Concept of polymorphism"
      ],
      "metadata": {
        "id": "KwIr-P_LowEh"
      },
      "execution_count": null,
      "outputs": []
    },
    {
      "cell_type": "code",
      "source": [
        "print(a1)"
      ],
      "metadata": {
        "id": "LQzCMbPEqv5c"
      },
      "execution_count": null,
      "outputs": []
    },
    {
      "cell_type": "code",
      "source": [
        "a1 == a2"
      ],
      "metadata": {
        "id": "ah87hUmXuBTI"
      },
      "execution_count": null,
      "outputs": []
    },
    {
      "cell_type": "code",
      "source": [
        "a1 + a2"
      ],
      "metadata": {
        "id": "1X76rjKXuOF0"
      },
      "execution_count": null,
      "outputs": []
    },
    {
      "cell_type": "markdown",
      "source": [
        "Now, let's take what we've learned and apply it to the Mortgage example."
      ],
      "metadata": {
        "id": "JIH1xtlLvuUz"
      }
    }
  ]
}