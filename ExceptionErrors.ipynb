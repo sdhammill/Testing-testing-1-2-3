{
  "nbformat": 4,
  "nbformat_minor": 0,
  "metadata": {
    "colab": {
      "provenance": [],
      "authorship_tag": "ABX9TyPqAv0dfOiri/sYLHaIPFHi",
      "include_colab_link": true
    },
    "kernelspec": {
      "name": "python3",
      "display_name": "Python 3"
    },
    "language_info": {
      "name": "python"
    }
  },
  "cells": [
    {
      "cell_type": "markdown",
      "metadata": {
        "id": "view-in-github",
        "colab_type": "text"
      },
      "source": [
        "<a href=\"https://colab.research.google.com/github/sdhammill/Testing-testing-1-2-3/blob/main/ExceptionErrors.ipynb\" target=\"_parent\"><img src=\"https://colab.research.google.com/assets/colab-badge.svg\" alt=\"Open In Colab\"/></a>"
      ]
    },
    {
      "cell_type": "code",
      "execution_count": null,
      "metadata": {
        "id": "0GNbLzzLht1X"
      },
      "outputs": [],
      "source": [
        "try:\n",
        "  a = float(input('Numerator: '))\n",
        "  b = float(input('Denominator: '))\n",
        "  print(a/b)\n",
        "  print('Program ends.')\n",
        "except ZeroDivisionError:\n",
        "  print('Error occurred. Cannot divide by 0.')\n",
        "except:\n",
        "  print('Error occurred.')"
      ]
    },
    {
      "cell_type": "code",
      "source": [
        "def avg(aList):\n",
        "  try:\n",
        "    return sum(aList) / len(aList)\n",
        "  except ZeroDivisionError:\n",
        "    print('The list is empty.')\n",
        "    return []\n",
        "  except TypeError:\n",
        "    print('List must be numerical')\n",
        "    return float('nan')\n",
        "  else:\n",
        "    print('All good')\n",
        "  finally:\n",
        "    print ('We will always see this message')\n",
        "\n",
        "\n",
        "avg([])"
      ],
      "metadata": {
        "id": "CJVjaZqi2YHS"
      },
      "execution_count": null,
      "outputs": []
    }
  ]
}