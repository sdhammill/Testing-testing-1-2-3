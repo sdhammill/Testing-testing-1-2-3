{
  "nbformat": 4,
  "nbformat_minor": 0,
  "metadata": {
    "colab": {
      "provenance": [],
      "authorship_tag": "ABX9TyNcEKtGbBmbIRvq+NGlM9c8",
      "include_colab_link": true
    },
    "kernelspec": {
      "name": "python3",
      "display_name": "Python 3"
    },
    "language_info": {
      "name": "python"
    }
  },
  "cells": [
    {
      "cell_type": "markdown",
      "metadata": {
        "id": "view-in-github",
        "colab_type": "text"
      },
      "source": [
        "<a href=\"https://colab.research.google.com/github/sdhammill/Testing-testing-1-2-3/blob/main/PreliminaryPythonCoding.ipynb\" target=\"_parent\"><img src=\"https://colab.research.google.com/assets/colab-badge.svg\" alt=\"Open In Colab\"/></a>"
      ]
    },
    {
      "cell_type": "code",
      "execution_count": null,
      "metadata": {
        "id": "4LQAdDKEZiuj"
      },
      "outputs": [],
      "source": [
        "import random\n",
        "\n",
        "pc_choice = random.choice(['rock','paper','scissors'])\n",
        "\n",
        "user_choice = input('Choose one: rock, paper, or scissors. ')\n",
        "\n",
        "if pc_choice == user_choice:\n",
        "  print(f'Draw. Computer chose {pc_choice}.')\n",
        "\n",
        "elif pc_choice == 'rock' and user_choice == 'paper' or pc_choice == 'paper' and user_choice == 'scissors' or pc_choice == 'scissors' and user_choice == 'rock':\n",
        "  print(f'User wins! Computer chose {pc_choice}.')\n",
        "\n",
        "elif user_choice == 'rock' and pc_choice == 'paper' or pc_choice == 'scissors' and user_choice == 'paper' or user_choice == 'scissors' and pc_choice == 'rock':\n",
        "  print(f'Computer wins! Computer chose {pc_choice}.')"
      ]
    },
    {
      "cell_type": "code",
      "source": [
        "import random\n",
        "userinput = input(\"Do you want to play the game? Y/N: \")\n",
        "while userinput == \"Y\":\n",
        "  pc_choice = random.choice(['rock','paper','scissors'])\n",
        "  user_choice = input('Choose one: rock, paper, or scissors. ')\n",
        "  if pc_choice == user_choice:\n",
        "    print(f'Draw. Computer chose {pc_choice}.')\n",
        "  elif pc_choice == 'rock' and user_choice == 'paper' or pc_choice == 'paper' and user_choice == 'scissors' or pc_choice == 'scissors' and user_choice == 'rock':\n",
        "    print(f'User wins! Computer chose {pc_choice}.')\n",
        "  elif user_choice == 'rock' and pc_choice == 'paper' or pc_choice == 'scissors' and user_choice == 'paper' or user_choice == 'scissors' and pc_choice == 'rock':\n",
        "    print(f'Computer wins! Computer chose {pc_choice}.')\n",
        "  userinput = input(\"Play again? Y/N: \")"
      ],
      "metadata": {
        "id": "8gSSgTgOZp0t"
      },
      "execution_count": null,
      "outputs": []
    },
    {
      "cell_type": "code",
      "source": [
        "fee_fixed = 5\n",
        "fee_hr = 2.5\n",
        "\n",
        "for hour in range(1,9 ,1):\n",
        "  fee_total = fee_fixed + fee_hr * hour\n",
        "  if fee_total < 10:\n",
        "    print(f'{hour}) $10.0')\n",
        "  elif fee_total < 20:\n",
        "    print(f'{hour}) ${fee_total}')\n",
        "  else:\n",
        "    print(f'{hour}) $20.0')"
      ],
      "metadata": {
        "id": "pAUf897MZvgy"
      },
      "execution_count": null,
      "outputs": []
    }
  ]
}